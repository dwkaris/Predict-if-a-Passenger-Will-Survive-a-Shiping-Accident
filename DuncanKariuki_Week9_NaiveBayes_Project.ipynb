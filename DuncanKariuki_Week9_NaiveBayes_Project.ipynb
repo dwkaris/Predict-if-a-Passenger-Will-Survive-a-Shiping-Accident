{
  "nbformat": 4,
  "nbformat_minor": 0,
  "metadata": {
    "colab": {
      "name": "DuncanKariuki_Week9_NaiveBayes_Project.ipynb",
      "provenance": [],
      "collapsed_sections": [],
      "toc_visible": true,
      "authorship_tag": "ABX9TyNusX8/dI2xsL6U/o1X0o1o",
      "include_colab_link": true
    },
    "kernelspec": {
      "name": "python3",
      "display_name": "Python 3"
    }
  },
  "cells": [
    {
      "cell_type": "markdown",
      "metadata": {
        "id": "view-in-github",
        "colab_type": "text"
      },
      "source": [
        "<a href=\"https://colab.research.google.com/github/dwkaris/Week9Project/blob/master/DuncanKariuki_Week9_NaiveBayes_Project.ipynb\" target=\"_parent\"><img src=\"https://colab.research.google.com/assets/colab-badge.svg\" alt=\"Open In Colab\"/></a>"
      ]
    },
    {
      "cell_type": "code",
      "metadata": {
        "id": "u2ULPbj166pA",
        "colab_type": "code",
        "colab": {}
      },
      "source": [
        ""
      ],
      "execution_count": 55,
      "outputs": []
    },
    {
      "cell_type": "markdown",
      "metadata": {
        "id": "wbRAY3S1AhuK",
        "colab_type": "text"
      },
      "source": [
        "#WEEK 9 INDEPENDENT PROJECT"
      ]
    },
    {
      "cell_type": "markdown",
      "metadata": {
        "id": "uxM1a4yDAmlQ",
        "colab_type": "text"
      },
      "source": [
        "##DEFINING THE ANALYTIC QUESTION QUESTION"
      ]
    },
    {
      "cell_type": "markdown",
      "metadata": {
        "id": "Xx5judskAvlR",
        "colab_type": "text"
      },
      "source": [
        "###a). Specifying the analytic question"
      ]
    },
    {
      "cell_type": "markdown",
      "metadata": {
        "id": "KrR8UEbIBffa",
        "colab_type": "text"
      },
      "source": [
        "As Data Scientists, we have been tasked with building a model that correctly predict if an email is a spam or not"
      ]
    },
    {
      "cell_type": "markdown",
      "metadata": {
        "id": "fe_t77vvBeE7",
        "colab_type": "text"
      },
      "source": [
        "###b). Defining the metrics of success"
      ]
    },
    {
      "cell_type": "markdown",
      "metadata": {
        "id": "lcrt6CPHB3Ip",
        "colab_type": "text"
      },
      "source": [
        "Our success will be determined by building a model with the highest accuracy, we will use the confusion matrix and classification report to determie our accuracy."
      ]
    },
    {
      "cell_type": "markdown",
      "metadata": {
        "id": "AIGAi3eOCSmQ",
        "colab_type": "text"
      },
      "source": [
        "###c) Understanding the Context"
      ]
    },
    {
      "cell_type": "markdown",
      "metadata": {
        "id": "LJMuJh07CW-I",
        "colab_type": "text"
      },
      "source": [
        "As Data Scientists, we have been tasked with studying data containing frequecy that a word appears collected from recieved Emails, classified as spam and not spam. Later onwards, build a model that predicts whether a recieved Email is spam or not."
      ]
    },
    {
      "cell_type": "markdown",
      "metadata": {
        "id": "rQCYlLs7C8su",
        "colab_type": "text"
      },
      "source": [
        "###d). Recording the Experimental Design"
      ]
    },
    {
      "cell_type": "markdown",
      "metadata": {
        "id": "GaQbgN6yDBsF",
        "colab_type": "text"
      },
      "source": [
        "Below is the expected workflow of our Analysis\n",
        "\n",
        "1.   Data Cleaning and Preparation\n",
        "\n",
        "*   Load libraries and dataset\n",
        "\n",
        "2. Tidying up the dataset\n",
        "  \n",
        "3.  Spliting dataset into testing and training data\n",
        "\n",
        "4.  Perform classification using the best Naive Bayes model.\n",
        "\n",
        "5. Compute the accuracy (percentage of correct classification).\n",
        "\n",
        "6.  Provide further recommendations to improve both classifiers.\n"
      ]
    },
    {
      "cell_type": "markdown",
      "metadata": {
        "id": "jN_sk-pUEizN",
        "colab_type": "text"
      },
      "source": [
        "###e) Data relevance/ Appropriateness of Data"
      ]
    },
    {
      "cell_type": "markdown",
      "metadata": {
        "id": "3i1HXDawEPAL",
        "colab_type": "text"
      },
      "source": [
        "Our study aims at creating the best model that predicts whether or not a recieved email is a Spam email.Below is the link:\n",
        "\n",
        "1. https://archive.ics.uci.edu/ml/datasets/Spambase\n"
      ]
    },
    {
      "cell_type": "markdown",
      "metadata": {
        "id": "pWbD99hvF1l2",
        "colab_type": "text"
      },
      "source": [
        "## Importing Libraries"
      ]
    },
    {
      "cell_type": "code",
      "metadata": {
        "id": "taKXvfCrF56A",
        "colab_type": "code",
        "colab": {}
      },
      "source": [
        "import pandas as pd \n",
        "import numpy as np\n",
        "import matplotlib.pyplot as plt\n",
        "import seaborn as sns\n",
        "import warnings\n",
        "warnings.filterwarnings('ignore')\n",
        "pd.set_option('display.max_columns', 5000)\n",
        "pd.set_option('display.width', 5000)\n",
        "from sklearn.decomposition import PCA\n",
        "from sklearn.model_selection import train_test_split\n",
        "from sklearn.preprocessing import  StandardScaler\n",
        "from sklearn import metrics\n",
        "from sklearn import preprocessing\n",
        "from sklearn.naive_bayes import MultinomialNB,GaussianNB,ComplementNB"
      ],
      "execution_count": 74,
      "outputs": []
    },
    {
      "cell_type": "markdown",
      "metadata": {
        "id": "j64NSJe0GX6x",
        "colab_type": "text"
      },
      "source": [
        "## Load the Dataset"
      ]
    },
    {
      "cell_type": "code",
      "metadata": {
        "id": "6zd8W--0GUhp",
        "colab_type": "code",
        "colab": {}
      },
      "source": [
        "# Load Dataset\n",
        "\n",
        "spam = pd.read_csv('spambasedata.csv', delimiter=',')\n"
      ],
      "execution_count": 57,
      "outputs": []
    },
    {
      "cell_type": "code",
      "metadata": {
        "id": "KYMEam70HJEK",
        "colab_type": "code",
        "colab": {
          "base_uri": "https://localhost:8080/",
          "height": 224
        },
        "outputId": "5710f50a-a227-44bd-ca61-daa271d18408"
      },
      "source": [
        "# Preview the top 5 rows of our dataset\n",
        "\n",
        "spam.head()"
      ],
      "execution_count": 58,
      "outputs": [
        {
          "output_type": "execute_result",
          "data": {
            "text/html": [
              "<div>\n",
              "<style scoped>\n",
              "    .dataframe tbody tr th:only-of-type {\n",
              "        vertical-align: middle;\n",
              "    }\n",
              "\n",
              "    .dataframe tbody tr th {\n",
              "        vertical-align: top;\n",
              "    }\n",
              "\n",
              "    .dataframe thead th {\n",
              "        text-align: right;\n",
              "    }\n",
              "</style>\n",
              "<table border=\"1\" class=\"dataframe\">\n",
              "  <thead>\n",
              "    <tr style=\"text-align: right;\">\n",
              "      <th></th>\n",
              "      <th>word_freq_make</th>\n",
              "      <th>word_freq_address</th>\n",
              "      <th>word_freq_all</th>\n",
              "      <th>word_freq_3d</th>\n",
              "      <th>word_freq_our</th>\n",
              "      <th>word_freq_over</th>\n",
              "      <th>word_freq_remove</th>\n",
              "      <th>word_freq_internet</th>\n",
              "      <th>word_freq_order</th>\n",
              "      <th>word_freq_mail</th>\n",
              "      <th>word_freq_receive</th>\n",
              "      <th>word_freq_will</th>\n",
              "      <th>word_freq_people</th>\n",
              "      <th>word_freq_report</th>\n",
              "      <th>word_freq_addresses</th>\n",
              "      <th>word_freq_free</th>\n",
              "      <th>word_freq_business</th>\n",
              "      <th>word_freq_email</th>\n",
              "      <th>word_freq_you</th>\n",
              "      <th>word_freq_credit</th>\n",
              "      <th>word_freq_your</th>\n",
              "      <th>word_freq_font</th>\n",
              "      <th>word_freq_000</th>\n",
              "      <th>word_freq_money</th>\n",
              "      <th>word_freq_hp</th>\n",
              "      <th>word_freq_hpl</th>\n",
              "      <th>word_freq_george</th>\n",
              "      <th>word_freq_650</th>\n",
              "      <th>word_freq_lab</th>\n",
              "      <th>word_freq_labs</th>\n",
              "      <th>word_freq_telnet</th>\n",
              "      <th>word_freq_857</th>\n",
              "      <th>word_freq_data</th>\n",
              "      <th>word_freq_415</th>\n",
              "      <th>word_freq_85</th>\n",
              "      <th>word_freq_technology</th>\n",
              "      <th>word_freq_1999</th>\n",
              "      <th>word_freq_parts</th>\n",
              "      <th>word_freq_pm</th>\n",
              "      <th>word_freq_direct</th>\n",
              "      <th>word_freq_cs</th>\n",
              "      <th>word_freq_meeting</th>\n",
              "      <th>word_freq_original</th>\n",
              "      <th>word_freq_project</th>\n",
              "      <th>word_freq_re</th>\n",
              "      <th>word_freq_edu</th>\n",
              "      <th>word_freq_table</th>\n",
              "      <th>word_freq_conference</th>\n",
              "      <th>char_freq_;</th>\n",
              "      <th>char_freq_(</th>\n",
              "      <th>char_freq_[</th>\n",
              "      <th>char_freq_!</th>\n",
              "      <th>char_freq_$</th>\n",
              "      <th>char_freq_#</th>\n",
              "      <th>capital_run_length_average</th>\n",
              "      <th>capital_run_length_longest</th>\n",
              "      <th>capital_run_length_total</th>\n",
              "      <th>class</th>\n",
              "    </tr>\n",
              "  </thead>\n",
              "  <tbody>\n",
              "    <tr>\n",
              "      <th>0</th>\n",
              "      <td>0.00</td>\n",
              "      <td>0.64</td>\n",
              "      <td>0.64</td>\n",
              "      <td>0.0</td>\n",
              "      <td>0.32</td>\n",
              "      <td>0.00</td>\n",
              "      <td>0.00</td>\n",
              "      <td>0.00</td>\n",
              "      <td>0.00</td>\n",
              "      <td>0.00</td>\n",
              "      <td>0.00</td>\n",
              "      <td>0.64</td>\n",
              "      <td>0.00</td>\n",
              "      <td>0.00</td>\n",
              "      <td>0.00</td>\n",
              "      <td>0.32</td>\n",
              "      <td>0.00</td>\n",
              "      <td>1.29</td>\n",
              "      <td>1.93</td>\n",
              "      <td>0.00</td>\n",
              "      <td>1.59</td>\n",
              "      <td>0.0</td>\n",
              "      <td>0.43</td>\n",
              "      <td>0.43</td>\n",
              "      <td>0.0</td>\n",
              "      <td>0.0</td>\n",
              "      <td>0.0</td>\n",
              "      <td>0.0</td>\n",
              "      <td>0.0</td>\n",
              "      <td>0.0</td>\n",
              "      <td>0.0</td>\n",
              "      <td>0.0</td>\n",
              "      <td>0.0</td>\n",
              "      <td>0.0</td>\n",
              "      <td>0.0</td>\n",
              "      <td>0.0</td>\n",
              "      <td>0.07</td>\n",
              "      <td>0.0</td>\n",
              "      <td>0.0</td>\n",
              "      <td>0.00</td>\n",
              "      <td>0.0</td>\n",
              "      <td>0.0</td>\n",
              "      <td>0.00</td>\n",
              "      <td>0.0</td>\n",
              "      <td>0.00</td>\n",
              "      <td>0.00</td>\n",
              "      <td>0.0</td>\n",
              "      <td>0.0</td>\n",
              "      <td>0.00</td>\n",
              "      <td>0.132</td>\n",
              "      <td>0.0</td>\n",
              "      <td>0.372</td>\n",
              "      <td>0.180</td>\n",
              "      <td>0.048</td>\n",
              "      <td>5.114</td>\n",
              "      <td>101.0</td>\n",
              "      <td>1028.0</td>\n",
              "      <td>1.0</td>\n",
              "    </tr>\n",
              "    <tr>\n",
              "      <th>1</th>\n",
              "      <td>0.21</td>\n",
              "      <td>0.28</td>\n",
              "      <td>0.50</td>\n",
              "      <td>0.0</td>\n",
              "      <td>0.14</td>\n",
              "      <td>0.28</td>\n",
              "      <td>0.21</td>\n",
              "      <td>0.07</td>\n",
              "      <td>0.00</td>\n",
              "      <td>0.94</td>\n",
              "      <td>0.21</td>\n",
              "      <td>0.79</td>\n",
              "      <td>0.65</td>\n",
              "      <td>0.21</td>\n",
              "      <td>0.14</td>\n",
              "      <td>0.14</td>\n",
              "      <td>0.07</td>\n",
              "      <td>0.28</td>\n",
              "      <td>3.47</td>\n",
              "      <td>0.00</td>\n",
              "      <td>0.51</td>\n",
              "      <td>0.0</td>\n",
              "      <td>1.16</td>\n",
              "      <td>0.06</td>\n",
              "      <td>0.0</td>\n",
              "      <td>0.0</td>\n",
              "      <td>0.0</td>\n",
              "      <td>0.0</td>\n",
              "      <td>0.0</td>\n",
              "      <td>0.0</td>\n",
              "      <td>0.0</td>\n",
              "      <td>0.0</td>\n",
              "      <td>0.0</td>\n",
              "      <td>0.0</td>\n",
              "      <td>0.0</td>\n",
              "      <td>0.0</td>\n",
              "      <td>0.00</td>\n",
              "      <td>0.0</td>\n",
              "      <td>0.0</td>\n",
              "      <td>0.06</td>\n",
              "      <td>0.0</td>\n",
              "      <td>0.0</td>\n",
              "      <td>0.12</td>\n",
              "      <td>0.0</td>\n",
              "      <td>0.06</td>\n",
              "      <td>0.06</td>\n",
              "      <td>0.0</td>\n",
              "      <td>0.0</td>\n",
              "      <td>0.01</td>\n",
              "      <td>0.143</td>\n",
              "      <td>0.0</td>\n",
              "      <td>0.276</td>\n",
              "      <td>0.184</td>\n",
              "      <td>0.010</td>\n",
              "      <td>9.821</td>\n",
              "      <td>485.0</td>\n",
              "      <td>2259.0</td>\n",
              "      <td>1.0</td>\n",
              "    </tr>\n",
              "    <tr>\n",
              "      <th>2</th>\n",
              "      <td>0.06</td>\n",
              "      <td>0.00</td>\n",
              "      <td>0.71</td>\n",
              "      <td>0.0</td>\n",
              "      <td>1.23</td>\n",
              "      <td>0.19</td>\n",
              "      <td>0.19</td>\n",
              "      <td>0.12</td>\n",
              "      <td>0.64</td>\n",
              "      <td>0.25</td>\n",
              "      <td>0.38</td>\n",
              "      <td>0.45</td>\n",
              "      <td>0.12</td>\n",
              "      <td>0.00</td>\n",
              "      <td>1.75</td>\n",
              "      <td>0.06</td>\n",
              "      <td>0.06</td>\n",
              "      <td>1.03</td>\n",
              "      <td>1.36</td>\n",
              "      <td>0.32</td>\n",
              "      <td>0.31</td>\n",
              "      <td>0.0</td>\n",
              "      <td>0.00</td>\n",
              "      <td>0.00</td>\n",
              "      <td>0.0</td>\n",
              "      <td>0.0</td>\n",
              "      <td>0.0</td>\n",
              "      <td>0.0</td>\n",
              "      <td>0.0</td>\n",
              "      <td>0.0</td>\n",
              "      <td>0.0</td>\n",
              "      <td>0.0</td>\n",
              "      <td>0.0</td>\n",
              "      <td>0.0</td>\n",
              "      <td>0.0</td>\n",
              "      <td>0.0</td>\n",
              "      <td>0.00</td>\n",
              "      <td>0.0</td>\n",
              "      <td>0.0</td>\n",
              "      <td>0.00</td>\n",
              "      <td>0.0</td>\n",
              "      <td>0.0</td>\n",
              "      <td>0.00</td>\n",
              "      <td>0.0</td>\n",
              "      <td>0.00</td>\n",
              "      <td>0.00</td>\n",
              "      <td>0.0</td>\n",
              "      <td>0.0</td>\n",
              "      <td>0.00</td>\n",
              "      <td>0.137</td>\n",
              "      <td>0.0</td>\n",
              "      <td>0.137</td>\n",
              "      <td>0.000</td>\n",
              "      <td>0.000</td>\n",
              "      <td>3.537</td>\n",
              "      <td>40.0</td>\n",
              "      <td>191.0</td>\n",
              "      <td>1.0</td>\n",
              "    </tr>\n",
              "    <tr>\n",
              "      <th>3</th>\n",
              "      <td>0.00</td>\n",
              "      <td>0.00</td>\n",
              "      <td>0.00</td>\n",
              "      <td>0.0</td>\n",
              "      <td>0.63</td>\n",
              "      <td>0.00</td>\n",
              "      <td>0.31</td>\n",
              "      <td>0.63</td>\n",
              "      <td>0.31</td>\n",
              "      <td>0.63</td>\n",
              "      <td>0.31</td>\n",
              "      <td>0.31</td>\n",
              "      <td>0.31</td>\n",
              "      <td>0.00</td>\n",
              "      <td>0.00</td>\n",
              "      <td>0.31</td>\n",
              "      <td>0.00</td>\n",
              "      <td>0.00</td>\n",
              "      <td>3.18</td>\n",
              "      <td>0.00</td>\n",
              "      <td>0.31</td>\n",
              "      <td>0.0</td>\n",
              "      <td>0.00</td>\n",
              "      <td>0.00</td>\n",
              "      <td>0.0</td>\n",
              "      <td>0.0</td>\n",
              "      <td>0.0</td>\n",
              "      <td>0.0</td>\n",
              "      <td>0.0</td>\n",
              "      <td>0.0</td>\n",
              "      <td>0.0</td>\n",
              "      <td>0.0</td>\n",
              "      <td>0.0</td>\n",
              "      <td>0.0</td>\n",
              "      <td>0.0</td>\n",
              "      <td>0.0</td>\n",
              "      <td>0.00</td>\n",
              "      <td>0.0</td>\n",
              "      <td>0.0</td>\n",
              "      <td>0.00</td>\n",
              "      <td>0.0</td>\n",
              "      <td>0.0</td>\n",
              "      <td>0.00</td>\n",
              "      <td>0.0</td>\n",
              "      <td>0.00</td>\n",
              "      <td>0.00</td>\n",
              "      <td>0.0</td>\n",
              "      <td>0.0</td>\n",
              "      <td>0.00</td>\n",
              "      <td>0.135</td>\n",
              "      <td>0.0</td>\n",
              "      <td>0.135</td>\n",
              "      <td>0.000</td>\n",
              "      <td>0.000</td>\n",
              "      <td>3.537</td>\n",
              "      <td>40.0</td>\n",
              "      <td>191.0</td>\n",
              "      <td>1.0</td>\n",
              "    </tr>\n",
              "    <tr>\n",
              "      <th>4</th>\n",
              "      <td>0.00</td>\n",
              "      <td>0.00</td>\n",
              "      <td>0.00</td>\n",
              "      <td>0.0</td>\n",
              "      <td>0.63</td>\n",
              "      <td>0.00</td>\n",
              "      <td>0.31</td>\n",
              "      <td>0.63</td>\n",
              "      <td>0.31</td>\n",
              "      <td>0.63</td>\n",
              "      <td>0.31</td>\n",
              "      <td>0.31</td>\n",
              "      <td>0.31</td>\n",
              "      <td>0.00</td>\n",
              "      <td>0.00</td>\n",
              "      <td>0.31</td>\n",
              "      <td>0.00</td>\n",
              "      <td>0.00</td>\n",
              "      <td>3.18</td>\n",
              "      <td>0.00</td>\n",
              "      <td>0.00</td>\n",
              "      <td>0.0</td>\n",
              "      <td>0.00</td>\n",
              "      <td>0.00</td>\n",
              "      <td>0.0</td>\n",
              "      <td>0.0</td>\n",
              "      <td>0.0</td>\n",
              "      <td>0.0</td>\n",
              "      <td>0.0</td>\n",
              "      <td>0.0</td>\n",
              "      <td>0.0</td>\n",
              "      <td>0.0</td>\n",
              "      <td>0.0</td>\n",
              "      <td>0.0</td>\n",
              "      <td>0.0</td>\n",
              "      <td>0.0</td>\n",
              "      <td>0.00</td>\n",
              "      <td>0.0</td>\n",
              "      <td>0.0</td>\n",
              "      <td>0.00</td>\n",
              "      <td>0.0</td>\n",
              "      <td>0.0</td>\n",
              "      <td>0.00</td>\n",
              "      <td>0.0</td>\n",
              "      <td>0.00</td>\n",
              "      <td>0.00</td>\n",
              "      <td>0.0</td>\n",
              "      <td>0.0</td>\n",
              "      <td>0.00</td>\n",
              "      <td>0.223</td>\n",
              "      <td>0.0</td>\n",
              "      <td>0.000</td>\n",
              "      <td>0.000</td>\n",
              "      <td>0.000</td>\n",
              "      <td>3.000</td>\n",
              "      <td>15.0</td>\n",
              "      <td>54.0</td>\n",
              "      <td>1.0</td>\n",
              "    </tr>\n",
              "  </tbody>\n",
              "</table>\n",
              "</div>"
            ],
            "text/plain": [
              "   word_freq_make  word_freq_address  word_freq_all  word_freq_3d  word_freq_our  word_freq_over  word_freq_remove  word_freq_internet  word_freq_order  word_freq_mail  word_freq_receive  word_freq_will  word_freq_people  word_freq_report  word_freq_addresses  word_freq_free  word_freq_business  word_freq_email  word_freq_you  word_freq_credit  word_freq_your  word_freq_font  word_freq_000  word_freq_money  word_freq_hp  word_freq_hpl  word_freq_george  word_freq_650  word_freq_lab  word_freq_labs  word_freq_telnet  word_freq_857  word_freq_data  word_freq_415  word_freq_85  word_freq_technology  word_freq_1999  word_freq_parts  word_freq_pm  word_freq_direct  word_freq_cs  word_freq_meeting  word_freq_original  word_freq_project  word_freq_re  word_freq_edu  word_freq_table  word_freq_conference  char_freq_;  char_freq_(  char_freq_[  char_freq_!  char_freq_$  char_freq_#  capital_run_length_average  capital_run_length_longest  capital_run_length_total  class\n",
              "0            0.00               0.64           0.64           0.0           0.32            0.00              0.00                0.00             0.00            0.00               0.00            0.64              0.00              0.00                 0.00            0.32                0.00             1.29           1.93              0.00            1.59             0.0           0.43             0.43           0.0            0.0               0.0            0.0            0.0             0.0               0.0            0.0             0.0            0.0           0.0                   0.0            0.07              0.0           0.0              0.00           0.0                0.0                0.00                0.0          0.00           0.00              0.0                   0.0         0.00        0.132          0.0        0.372        0.180        0.048                       5.114                       101.0                    1028.0    1.0\n",
              "1            0.21               0.28           0.50           0.0           0.14            0.28              0.21                0.07             0.00            0.94               0.21            0.79              0.65              0.21                 0.14            0.14                0.07             0.28           3.47              0.00            0.51             0.0           1.16             0.06           0.0            0.0               0.0            0.0            0.0             0.0               0.0            0.0             0.0            0.0           0.0                   0.0            0.00              0.0           0.0              0.06           0.0                0.0                0.12                0.0          0.06           0.06              0.0                   0.0         0.01        0.143          0.0        0.276        0.184        0.010                       9.821                       485.0                    2259.0    1.0\n",
              "2            0.06               0.00           0.71           0.0           1.23            0.19              0.19                0.12             0.64            0.25               0.38            0.45              0.12              0.00                 1.75            0.06                0.06             1.03           1.36              0.32            0.31             0.0           0.00             0.00           0.0            0.0               0.0            0.0            0.0             0.0               0.0            0.0             0.0            0.0           0.0                   0.0            0.00              0.0           0.0              0.00           0.0                0.0                0.00                0.0          0.00           0.00              0.0                   0.0         0.00        0.137          0.0        0.137        0.000        0.000                       3.537                        40.0                     191.0    1.0\n",
              "3            0.00               0.00           0.00           0.0           0.63            0.00              0.31                0.63             0.31            0.63               0.31            0.31              0.31              0.00                 0.00            0.31                0.00             0.00           3.18              0.00            0.31             0.0           0.00             0.00           0.0            0.0               0.0            0.0            0.0             0.0               0.0            0.0             0.0            0.0           0.0                   0.0            0.00              0.0           0.0              0.00           0.0                0.0                0.00                0.0          0.00           0.00              0.0                   0.0         0.00        0.135          0.0        0.135        0.000        0.000                       3.537                        40.0                     191.0    1.0\n",
              "4            0.00               0.00           0.00           0.0           0.63            0.00              0.31                0.63             0.31            0.63               0.31            0.31              0.31              0.00                 0.00            0.31                0.00             0.00           3.18              0.00            0.00             0.0           0.00             0.00           0.0            0.0               0.0            0.0            0.0             0.0               0.0            0.0             0.0            0.0           0.0                   0.0            0.00              0.0           0.0              0.00           0.0                0.0                0.00                0.0          0.00           0.00              0.0                   0.0         0.00        0.223          0.0        0.000        0.000        0.000                       3.000                        15.0                      54.0    1.0"
            ]
          },
          "metadata": {
            "tags": []
          },
          "execution_count": 58
        }
      ]
    },
    {
      "cell_type": "code",
      "metadata": {
        "id": "Bv9UD0gtHqBH",
        "colab_type": "code",
        "colab": {
          "base_uri": "https://localhost:8080/",
          "height": 224
        },
        "outputId": "d197a564-1420-4a87-a60e-7901f7e1536e"
      },
      "source": [
        "# Preview the last 5 rows of our \n",
        "\n",
        "spam.tail()"
      ],
      "execution_count": 59,
      "outputs": [
        {
          "output_type": "execute_result",
          "data": {
            "text/html": [
              "<div>\n",
              "<style scoped>\n",
              "    .dataframe tbody tr th:only-of-type {\n",
              "        vertical-align: middle;\n",
              "    }\n",
              "\n",
              "    .dataframe tbody tr th {\n",
              "        vertical-align: top;\n",
              "    }\n",
              "\n",
              "    .dataframe thead th {\n",
              "        text-align: right;\n",
              "    }\n",
              "</style>\n",
              "<table border=\"1\" class=\"dataframe\">\n",
              "  <thead>\n",
              "    <tr style=\"text-align: right;\">\n",
              "      <th></th>\n",
              "      <th>word_freq_make</th>\n",
              "      <th>word_freq_address</th>\n",
              "      <th>word_freq_all</th>\n",
              "      <th>word_freq_3d</th>\n",
              "      <th>word_freq_our</th>\n",
              "      <th>word_freq_over</th>\n",
              "      <th>word_freq_remove</th>\n",
              "      <th>word_freq_internet</th>\n",
              "      <th>word_freq_order</th>\n",
              "      <th>word_freq_mail</th>\n",
              "      <th>word_freq_receive</th>\n",
              "      <th>word_freq_will</th>\n",
              "      <th>word_freq_people</th>\n",
              "      <th>word_freq_report</th>\n",
              "      <th>word_freq_addresses</th>\n",
              "      <th>word_freq_free</th>\n",
              "      <th>word_freq_business</th>\n",
              "      <th>word_freq_email</th>\n",
              "      <th>word_freq_you</th>\n",
              "      <th>word_freq_credit</th>\n",
              "      <th>word_freq_your</th>\n",
              "      <th>word_freq_font</th>\n",
              "      <th>word_freq_000</th>\n",
              "      <th>word_freq_money</th>\n",
              "      <th>word_freq_hp</th>\n",
              "      <th>word_freq_hpl</th>\n",
              "      <th>word_freq_george</th>\n",
              "      <th>word_freq_650</th>\n",
              "      <th>word_freq_lab</th>\n",
              "      <th>word_freq_labs</th>\n",
              "      <th>word_freq_telnet</th>\n",
              "      <th>word_freq_857</th>\n",
              "      <th>word_freq_data</th>\n",
              "      <th>word_freq_415</th>\n",
              "      <th>word_freq_85</th>\n",
              "      <th>word_freq_technology</th>\n",
              "      <th>word_freq_1999</th>\n",
              "      <th>word_freq_parts</th>\n",
              "      <th>word_freq_pm</th>\n",
              "      <th>word_freq_direct</th>\n",
              "      <th>word_freq_cs</th>\n",
              "      <th>word_freq_meeting</th>\n",
              "      <th>word_freq_original</th>\n",
              "      <th>word_freq_project</th>\n",
              "      <th>word_freq_re</th>\n",
              "      <th>word_freq_edu</th>\n",
              "      <th>word_freq_table</th>\n",
              "      <th>word_freq_conference</th>\n",
              "      <th>char_freq_;</th>\n",
              "      <th>char_freq_(</th>\n",
              "      <th>char_freq_[</th>\n",
              "      <th>char_freq_!</th>\n",
              "      <th>char_freq_$</th>\n",
              "      <th>char_freq_#</th>\n",
              "      <th>capital_run_length_average</th>\n",
              "      <th>capital_run_length_longest</th>\n",
              "      <th>capital_run_length_total</th>\n",
              "      <th>class</th>\n",
              "    </tr>\n",
              "  </thead>\n",
              "  <tbody>\n",
              "    <tr>\n",
              "      <th>4596</th>\n",
              "      <td>0.31</td>\n",
              "      <td>0.0</td>\n",
              "      <td>0.62</td>\n",
              "      <td>0.0</td>\n",
              "      <td>0.00</td>\n",
              "      <td>0.31</td>\n",
              "      <td>0.0</td>\n",
              "      <td>0.0</td>\n",
              "      <td>0.0</td>\n",
              "      <td>0.0</td>\n",
              "      <td>0.0</td>\n",
              "      <td>1.88</td>\n",
              "      <td>0.00</td>\n",
              "      <td>0.0</td>\n",
              "      <td>0.0</td>\n",
              "      <td>0.0</td>\n",
              "      <td>0.0</td>\n",
              "      <td>0.0</td>\n",
              "      <td>0.62</td>\n",
              "      <td>0.0</td>\n",
              "      <td>2.00</td>\n",
              "      <td>0.0</td>\n",
              "      <td>0.0</td>\n",
              "      <td>0.0</td>\n",
              "      <td>0.0</td>\n",
              "      <td>0.0</td>\n",
              "      <td>0.0</td>\n",
              "      <td>0.0</td>\n",
              "      <td>0.0</td>\n",
              "      <td>0.0</td>\n",
              "      <td>0.0</td>\n",
              "      <td>0.0</td>\n",
              "      <td>0.0</td>\n",
              "      <td>0.0</td>\n",
              "      <td>0.0</td>\n",
              "      <td>0.0</td>\n",
              "      <td>0.0</td>\n",
              "      <td>0.0</td>\n",
              "      <td>0.0</td>\n",
              "      <td>0.0</td>\n",
              "      <td>0.0</td>\n",
              "      <td>0.0</td>\n",
              "      <td>0.0</td>\n",
              "      <td>0.00</td>\n",
              "      <td>0.00</td>\n",
              "      <td>2.00</td>\n",
              "      <td>0.0</td>\n",
              "      <td>0.0</td>\n",
              "      <td>0.000</td>\n",
              "      <td>0.000</td>\n",
              "      <td>0.0</td>\n",
              "      <td>0.353</td>\n",
              "      <td>0.0</td>\n",
              "      <td>0.0</td>\n",
              "      <td>1.555</td>\n",
              "      <td>4.0</td>\n",
              "      <td>14.0</td>\n",
              "      <td>0.0</td>\n",
              "    </tr>\n",
              "    <tr>\n",
              "      <th>4597</th>\n",
              "      <td>0.00</td>\n",
              "      <td>0.0</td>\n",
              "      <td>0.00</td>\n",
              "      <td>0.0</td>\n",
              "      <td>0.00</td>\n",
              "      <td>0.00</td>\n",
              "      <td>0.0</td>\n",
              "      <td>0.0</td>\n",
              "      <td>0.0</td>\n",
              "      <td>0.0</td>\n",
              "      <td>0.0</td>\n",
              "      <td>0.00</td>\n",
              "      <td>0.00</td>\n",
              "      <td>0.0</td>\n",
              "      <td>0.0</td>\n",
              "      <td>0.0</td>\n",
              "      <td>0.0</td>\n",
              "      <td>0.0</td>\n",
              "      <td>6.00</td>\n",
              "      <td>0.0</td>\n",
              "      <td>0.30</td>\n",
              "      <td>0.0</td>\n",
              "      <td>0.0</td>\n",
              "      <td>0.0</td>\n",
              "      <td>0.0</td>\n",
              "      <td>0.0</td>\n",
              "      <td>0.0</td>\n",
              "      <td>0.0</td>\n",
              "      <td>0.0</td>\n",
              "      <td>0.0</td>\n",
              "      <td>0.0</td>\n",
              "      <td>0.0</td>\n",
              "      <td>0.0</td>\n",
              "      <td>0.0</td>\n",
              "      <td>0.0</td>\n",
              "      <td>0.0</td>\n",
              "      <td>0.0</td>\n",
              "      <td>0.0</td>\n",
              "      <td>0.0</td>\n",
              "      <td>0.0</td>\n",
              "      <td>0.0</td>\n",
              "      <td>0.0</td>\n",
              "      <td>0.0</td>\n",
              "      <td>0.00</td>\n",
              "      <td>0.00</td>\n",
              "      <td>1.20</td>\n",
              "      <td>0.0</td>\n",
              "      <td>0.0</td>\n",
              "      <td>0.102</td>\n",
              "      <td>0.718</td>\n",
              "      <td>0.0</td>\n",
              "      <td>0.000</td>\n",
              "      <td>0.0</td>\n",
              "      <td>0.0</td>\n",
              "      <td>1.404</td>\n",
              "      <td>6.0</td>\n",
              "      <td>118.0</td>\n",
              "      <td>0.0</td>\n",
              "    </tr>\n",
              "    <tr>\n",
              "      <th>4598</th>\n",
              "      <td>0.30</td>\n",
              "      <td>0.0</td>\n",
              "      <td>0.30</td>\n",
              "      <td>0.0</td>\n",
              "      <td>0.00</td>\n",
              "      <td>0.00</td>\n",
              "      <td>0.0</td>\n",
              "      <td>0.0</td>\n",
              "      <td>0.0</td>\n",
              "      <td>0.0</td>\n",
              "      <td>0.0</td>\n",
              "      <td>1.80</td>\n",
              "      <td>0.30</td>\n",
              "      <td>0.0</td>\n",
              "      <td>0.0</td>\n",
              "      <td>0.0</td>\n",
              "      <td>0.0</td>\n",
              "      <td>0.9</td>\n",
              "      <td>1.50</td>\n",
              "      <td>0.0</td>\n",
              "      <td>0.32</td>\n",
              "      <td>0.0</td>\n",
              "      <td>0.0</td>\n",
              "      <td>0.0</td>\n",
              "      <td>0.0</td>\n",
              "      <td>0.0</td>\n",
              "      <td>0.0</td>\n",
              "      <td>0.0</td>\n",
              "      <td>0.0</td>\n",
              "      <td>0.0</td>\n",
              "      <td>0.0</td>\n",
              "      <td>0.0</td>\n",
              "      <td>0.0</td>\n",
              "      <td>0.0</td>\n",
              "      <td>0.0</td>\n",
              "      <td>0.0</td>\n",
              "      <td>0.0</td>\n",
              "      <td>0.0</td>\n",
              "      <td>0.0</td>\n",
              "      <td>0.0</td>\n",
              "      <td>0.0</td>\n",
              "      <td>0.0</td>\n",
              "      <td>0.0</td>\n",
              "      <td>0.32</td>\n",
              "      <td>0.00</td>\n",
              "      <td>0.32</td>\n",
              "      <td>0.0</td>\n",
              "      <td>0.0</td>\n",
              "      <td>0.000</td>\n",
              "      <td>0.057</td>\n",
              "      <td>0.0</td>\n",
              "      <td>0.000</td>\n",
              "      <td>0.0</td>\n",
              "      <td>0.0</td>\n",
              "      <td>1.147</td>\n",
              "      <td>5.0</td>\n",
              "      <td>78.0</td>\n",
              "      <td>0.0</td>\n",
              "    </tr>\n",
              "    <tr>\n",
              "      <th>4599</th>\n",
              "      <td>0.96</td>\n",
              "      <td>0.0</td>\n",
              "      <td>0.00</td>\n",
              "      <td>0.0</td>\n",
              "      <td>0.32</td>\n",
              "      <td>0.00</td>\n",
              "      <td>0.0</td>\n",
              "      <td>0.0</td>\n",
              "      <td>0.0</td>\n",
              "      <td>0.0</td>\n",
              "      <td>0.0</td>\n",
              "      <td>0.32</td>\n",
              "      <td>0.00</td>\n",
              "      <td>0.0</td>\n",
              "      <td>0.0</td>\n",
              "      <td>0.0</td>\n",
              "      <td>0.0</td>\n",
              "      <td>0.0</td>\n",
              "      <td>1.93</td>\n",
              "      <td>0.0</td>\n",
              "      <td>0.65</td>\n",
              "      <td>0.0</td>\n",
              "      <td>0.0</td>\n",
              "      <td>0.0</td>\n",
              "      <td>0.0</td>\n",
              "      <td>0.0</td>\n",
              "      <td>0.0</td>\n",
              "      <td>0.0</td>\n",
              "      <td>0.0</td>\n",
              "      <td>0.0</td>\n",
              "      <td>0.0</td>\n",
              "      <td>0.0</td>\n",
              "      <td>0.0</td>\n",
              "      <td>0.0</td>\n",
              "      <td>0.0</td>\n",
              "      <td>0.0</td>\n",
              "      <td>0.0</td>\n",
              "      <td>0.0</td>\n",
              "      <td>0.0</td>\n",
              "      <td>0.0</td>\n",
              "      <td>0.0</td>\n",
              "      <td>0.0</td>\n",
              "      <td>0.0</td>\n",
              "      <td>0.00</td>\n",
              "      <td>1.97</td>\n",
              "      <td>0.65</td>\n",
              "      <td>0.0</td>\n",
              "      <td>0.0</td>\n",
              "      <td>0.000</td>\n",
              "      <td>0.000</td>\n",
              "      <td>0.0</td>\n",
              "      <td>0.125</td>\n",
              "      <td>0.0</td>\n",
              "      <td>0.0</td>\n",
              "      <td>1.250</td>\n",
              "      <td>5.0</td>\n",
              "      <td>40.0</td>\n",
              "      <td>0.0</td>\n",
              "    </tr>\n",
              "    <tr>\n",
              "      <th>4600</th>\n",
              "      <td>0.00</td>\n",
              "      <td>0.0</td>\n",
              "      <td>0.65</td>\n",
              "      <td>0.0</td>\n",
              "      <td>0.00</td>\n",
              "      <td>0.00</td>\n",
              "      <td>0.0</td>\n",
              "      <td>0.0</td>\n",
              "      <td>0.0</td>\n",
              "      <td>0.0</td>\n",
              "      <td>0.0</td>\n",
              "      <td>0.00</td>\n",
              "      <td>0.65</td>\n",
              "      <td>0.0</td>\n",
              "      <td>0.0</td>\n",
              "      <td>0.0</td>\n",
              "      <td>0.0</td>\n",
              "      <td>0.0</td>\n",
              "      <td>4.60</td>\n",
              "      <td>0.0</td>\n",
              "      <td>NaN</td>\n",
              "      <td>NaN</td>\n",
              "      <td>NaN</td>\n",
              "      <td>NaN</td>\n",
              "      <td>NaN</td>\n",
              "      <td>NaN</td>\n",
              "      <td>NaN</td>\n",
              "      <td>NaN</td>\n",
              "      <td>NaN</td>\n",
              "      <td>NaN</td>\n",
              "      <td>NaN</td>\n",
              "      <td>NaN</td>\n",
              "      <td>NaN</td>\n",
              "      <td>NaN</td>\n",
              "      <td>NaN</td>\n",
              "      <td>NaN</td>\n",
              "      <td>NaN</td>\n",
              "      <td>NaN</td>\n",
              "      <td>NaN</td>\n",
              "      <td>NaN</td>\n",
              "      <td>NaN</td>\n",
              "      <td>NaN</td>\n",
              "      <td>NaN</td>\n",
              "      <td>NaN</td>\n",
              "      <td>NaN</td>\n",
              "      <td>NaN</td>\n",
              "      <td>NaN</td>\n",
              "      <td>NaN</td>\n",
              "      <td>NaN</td>\n",
              "      <td>NaN</td>\n",
              "      <td>NaN</td>\n",
              "      <td>NaN</td>\n",
              "      <td>NaN</td>\n",
              "      <td>NaN</td>\n",
              "      <td>NaN</td>\n",
              "      <td>NaN</td>\n",
              "      <td>NaN</td>\n",
              "      <td>NaN</td>\n",
              "    </tr>\n",
              "  </tbody>\n",
              "</table>\n",
              "</div>"
            ],
            "text/plain": [
              "      word_freq_make  word_freq_address  word_freq_all  word_freq_3d  word_freq_our  word_freq_over  word_freq_remove  word_freq_internet  word_freq_order  word_freq_mail  word_freq_receive  word_freq_will  word_freq_people  word_freq_report  word_freq_addresses  word_freq_free  word_freq_business  word_freq_email  word_freq_you  word_freq_credit  word_freq_your  word_freq_font  word_freq_000  word_freq_money  word_freq_hp  word_freq_hpl  word_freq_george  word_freq_650  word_freq_lab  word_freq_labs  word_freq_telnet  word_freq_857  word_freq_data  word_freq_415  word_freq_85  word_freq_technology  word_freq_1999  word_freq_parts  word_freq_pm  word_freq_direct  word_freq_cs  word_freq_meeting  word_freq_original  word_freq_project  word_freq_re  word_freq_edu  word_freq_table  word_freq_conference  char_freq_;  char_freq_(  char_freq_[  char_freq_!  char_freq_$  char_freq_#  capital_run_length_average  capital_run_length_longest  capital_run_length_total  class\n",
              "4596            0.31                0.0           0.62           0.0           0.00            0.31               0.0                 0.0              0.0             0.0                0.0            1.88              0.00               0.0                  0.0             0.0                 0.0              0.0           0.62               0.0            2.00             0.0            0.0              0.0           0.0            0.0               0.0            0.0            0.0             0.0               0.0            0.0             0.0            0.0           0.0                   0.0             0.0              0.0           0.0               0.0           0.0                0.0                 0.0               0.00          0.00           2.00              0.0                   0.0        0.000        0.000          0.0        0.353          0.0          0.0                       1.555                         4.0                      14.0    0.0\n",
              "4597            0.00                0.0           0.00           0.0           0.00            0.00               0.0                 0.0              0.0             0.0                0.0            0.00              0.00               0.0                  0.0             0.0                 0.0              0.0           6.00               0.0            0.30             0.0            0.0              0.0           0.0            0.0               0.0            0.0            0.0             0.0               0.0            0.0             0.0            0.0           0.0                   0.0             0.0              0.0           0.0               0.0           0.0                0.0                 0.0               0.00          0.00           1.20              0.0                   0.0        0.102        0.718          0.0        0.000          0.0          0.0                       1.404                         6.0                     118.0    0.0\n",
              "4598            0.30                0.0           0.30           0.0           0.00            0.00               0.0                 0.0              0.0             0.0                0.0            1.80              0.30               0.0                  0.0             0.0                 0.0              0.9           1.50               0.0            0.32             0.0            0.0              0.0           0.0            0.0               0.0            0.0            0.0             0.0               0.0            0.0             0.0            0.0           0.0                   0.0             0.0              0.0           0.0               0.0           0.0                0.0                 0.0               0.32          0.00           0.32              0.0                   0.0        0.000        0.057          0.0        0.000          0.0          0.0                       1.147                         5.0                      78.0    0.0\n",
              "4599            0.96                0.0           0.00           0.0           0.32            0.00               0.0                 0.0              0.0             0.0                0.0            0.32              0.00               0.0                  0.0             0.0                 0.0              0.0           1.93               0.0            0.65             0.0            0.0              0.0           0.0            0.0               0.0            0.0            0.0             0.0               0.0            0.0             0.0            0.0           0.0                   0.0             0.0              0.0           0.0               0.0           0.0                0.0                 0.0               0.00          1.97           0.65              0.0                   0.0        0.000        0.000          0.0        0.125          0.0          0.0                       1.250                         5.0                      40.0    0.0\n",
              "4600            0.00                0.0           0.65           0.0           0.00            0.00               0.0                 0.0              0.0             0.0                0.0            0.00              0.65               0.0                  0.0             0.0                 0.0              0.0           4.60               0.0             NaN             NaN            NaN              NaN           NaN            NaN               NaN            NaN            NaN             NaN               NaN            NaN             NaN            NaN           NaN                   NaN             NaN              NaN           NaN               NaN           NaN                NaN                 NaN                NaN           NaN            NaN              NaN                   NaN          NaN          NaN          NaN          NaN          NaN          NaN                         NaN                         NaN                       NaN    NaN"
            ]
          },
          "metadata": {
            "tags": []
          },
          "execution_count": 59
        }
      ]
    },
    {
      "cell_type": "markdown",
      "metadata": {
        "id": "5Iprq4wYH2NA",
        "colab_type": "text"
      },
      "source": [
        "## Checking the data"
      ]
    },
    {
      "cell_type": "code",
      "metadata": {
        "id": "bKuV6VQrHCbL",
        "colab_type": "code",
        "colab": {
          "base_uri": "https://localhost:8080/",
          "height": 34
        },
        "outputId": "9ed67071-7682-4013-acd9-94a3df8d7253"
      },
      "source": [
        "# Checking the shape of our data\n",
        "spam.shape\n",
        "\n",
        "# our data has 4601 rows and 58 column"
      ],
      "execution_count": 60,
      "outputs": [
        {
          "output_type": "execute_result",
          "data": {
            "text/plain": [
              "(4601, 58)"
            ]
          },
          "metadata": {
            "tags": []
          },
          "execution_count": 60
        }
      ]
    },
    {
      "cell_type": "code",
      "metadata": {
        "id": "Ga4JjB4-IDbS",
        "colab_type": "code",
        "colab": {
          "base_uri": "https://localhost:8080/",
          "height": 1000
        },
        "outputId": "d3d438e9-992b-4ece-ed27-ceec2438a46e"
      },
      "source": [
        "# Checking for infomation about a dataset\n",
        "\n",
        "spam.info()\n",
        "\n",
        "# our dataset has one null values\n",
        "# all columns have numerical data"
      ],
      "execution_count": 61,
      "outputs": [
        {
          "output_type": "stream",
          "text": [
            "<class 'pandas.core.frame.DataFrame'>\n",
            "RangeIndex: 4601 entries, 0 to 4600\n",
            "Data columns (total 58 columns):\n",
            " #   Column                      Non-Null Count  Dtype  \n",
            "---  ------                      --------------  -----  \n",
            " 0   word_freq_make              4601 non-null   float64\n",
            " 1   word_freq_address           4601 non-null   float64\n",
            " 2   word_freq_all               4601 non-null   float64\n",
            " 3   word_freq_3d                4601 non-null   float64\n",
            " 4   word_freq_our               4601 non-null   float64\n",
            " 5   word_freq_over              4601 non-null   float64\n",
            " 6   word_freq_remove            4601 non-null   float64\n",
            " 7   word_freq_internet          4601 non-null   float64\n",
            " 8   word_freq_order             4601 non-null   float64\n",
            " 9   word_freq_mail              4601 non-null   float64\n",
            " 10  word_freq_receive           4601 non-null   float64\n",
            " 11  word_freq_will              4601 non-null   float64\n",
            " 12  word_freq_people            4601 non-null   float64\n",
            " 13  word_freq_report            4601 non-null   float64\n",
            " 14  word_freq_addresses         4601 non-null   float64\n",
            " 15  word_freq_free              4601 non-null   float64\n",
            " 16  word_freq_business          4601 non-null   float64\n",
            " 17  word_freq_email             4601 non-null   float64\n",
            " 18  word_freq_you               4601 non-null   float64\n",
            " 19  word_freq_credit            4601 non-null   float64\n",
            " 20  word_freq_your              4600 non-null   float64\n",
            " 21  word_freq_font              4600 non-null   float64\n",
            " 22  word_freq_000               4600 non-null   float64\n",
            " 23  word_freq_money             4600 non-null   float64\n",
            " 24  word_freq_hp                4600 non-null   float64\n",
            " 25  word_freq_hpl               4600 non-null   float64\n",
            " 26  word_freq_george            4600 non-null   float64\n",
            " 27  word_freq_650               4600 non-null   float64\n",
            " 28  word_freq_lab               4600 non-null   float64\n",
            " 29  word_freq_labs              4600 non-null   float64\n",
            " 30  word_freq_telnet            4600 non-null   float64\n",
            " 31  word_freq_857               4600 non-null   float64\n",
            " 32  word_freq_data              4600 non-null   float64\n",
            " 33  word_freq_415               4600 non-null   float64\n",
            " 34  word_freq_85                4600 non-null   float64\n",
            " 35  word_freq_technology        4600 non-null   float64\n",
            " 36  word_freq_1999              4600 non-null   float64\n",
            " 37  word_freq_parts             4600 non-null   float64\n",
            " 38  word_freq_pm                4600 non-null   float64\n",
            " 39  word_freq_direct            4600 non-null   float64\n",
            " 40  word_freq_cs                4600 non-null   float64\n",
            " 41  word_freq_meeting           4600 non-null   float64\n",
            " 42  word_freq_original          4600 non-null   float64\n",
            " 43  word_freq_project           4600 non-null   float64\n",
            " 44  word_freq_re                4600 non-null   float64\n",
            " 45  word_freq_edu               4600 non-null   float64\n",
            " 46  word_freq_table             4600 non-null   float64\n",
            " 47  word_freq_conference        4600 non-null   float64\n",
            " 48  char_freq_;                 4600 non-null   float64\n",
            " 49  char_freq_(                 4600 non-null   float64\n",
            " 50  char_freq_[                 4600 non-null   float64\n",
            " 51  char_freq_!                 4600 non-null   float64\n",
            " 52  char_freq_$                 4600 non-null   float64\n",
            " 53  char_freq_#                 4600 non-null   float64\n",
            " 54  capital_run_length_average  4600 non-null   float64\n",
            " 55  capital_run_length_longest  4600 non-null   float64\n",
            " 56  capital_run_length_total    4600 non-null   float64\n",
            " 57  class                       4600 non-null   float64\n",
            "dtypes: float64(58)\n",
            "memory usage: 2.0 MB\n"
          ],
          "name": "stdout"
        }
      ]
    },
    {
      "cell_type": "markdown",
      "metadata": {
        "id": "ql0PCyuYJHCN",
        "colab_type": "text"
      },
      "source": [
        "## External Data Source Validation\n",
        "\n",
        "Making sure your data matches something outside of the dataset is very important. It allows you to ensure that the measurements are roughly in line with what they should be and it serves as a check on what other things might be wrong in your dataset. External validation can often be as simple as checking your data against a single number, as we will do here."
      ]
    },
    {
      "cell_type": "markdown",
      "metadata": {
        "id": "Kx2YOFoBc8lH",
        "colab_type": "text"
      },
      "source": [
        "## Tidying The Dataset"
      ]
    },
    {
      "cell_type": "code",
      "metadata": {
        "id": "e16ziMdpIdyi",
        "colab_type": "code",
        "colab": {}
      },
      "source": [
        "# We start by checking for null values in our dataset\n",
        "\n",
        "spam.isnull().sum()\n",
        "\n",
        "# Our dataset has only one null value hence we will drop it\n",
        "\n",
        "spam.dropna(inplace=True)"
      ],
      "execution_count": 62,
      "outputs": []
    },
    {
      "cell_type": "code",
      "metadata": {
        "id": "joqg2UjtK3fC",
        "colab_type": "code",
        "colab": {
          "base_uri": "https://localhost:8080/",
          "height": 68
        },
        "outputId": "e6cb1d10-dbcd-4639-b9f1-efa4b3042c78"
      },
      "source": [
        "# Check for unique values in our target column\n",
        "\n",
        "spam['class'].value_counts()\n",
        "\n",
        "# 2788 not spam emails\n",
        "# 1812 spam emails"
      ],
      "execution_count": 63,
      "outputs": [
        {
          "output_type": "execute_result",
          "data": {
            "text/plain": [
              "0.0    2788\n",
              "1.0    1812\n",
              "Name: class, dtype: int64"
            ]
          },
          "metadata": {
            "tags": []
          },
          "execution_count": 63
        }
      ]
    },
    {
      "cell_type": "code",
      "metadata": {
        "id": "zlJZAcNrzRYP",
        "colab_type": "code",
        "colab": {}
      },
      "source": [
        "# Remove white spaces\n",
        "spam.columns = spam.columns.str.strip().str.replace('','')\n",
        "column = ['word_freq_make', 'word_freq_address', 'word_freq_all', 'word_freq_3d', 'word_freq_our',\n",
        "          'word_freq_over', 'word_freq_remove', 'word_freq_internet', 'word_freq_order', 'word_freq_mail', \n",
        "          'word_freq_receive', 'word_freq_will', 'word_freq_people', 'word_freq_report', 'word_freq_addresses',\n",
        "          'word_freq_free', 'word_freq_business', 'word_freq_email', 'word_freq_you', 'word_freq_credit',\n",
        "          'word_freq_your', 'word_freq_font', 'word_freq_000', 'word_freq_money', 'word_freq_hp',\n",
        "          'word_freq_hpl', 'word_freq_george', 'word_freq_650', 'word_freq_lab', 'word_freq_labs', \n",
        "          'word_freq_telnet', 'word_freq_857', 'word_freq_data', 'word_freq_415', 'word_freq_85', \n",
        "          'word_freq_technology', 'word_freq_1999', 'word_freq_parts', 'word_freq_pm', 'word_freq_direct', \n",
        "          'word_freq_cs', 'word_freq_meeting', 'word_freq_original', 'word_freq_project', 'word_freq_re', \n",
        "          'word_freq_edu', 'word_freq_table', 'word_freq_conference', 'char_freq_;', 'char_freq_(',\n",
        "          'char_freq_[', 'char_freq_!', 'char_freq_$', 'char_freq_#', 'capital_run_length_average',\n",
        "          'capital_run_length_longest', 'capital_run_length_total']\n",
        "\n",
        "for i, feat in enumerate(column):\n",
        "  spam[feat] = spam[feat].replace('','')"
      ],
      "execution_count": 64,
      "outputs": []
    },
    {
      "cell_type": "markdown",
      "metadata": {
        "id": "aKpOHP7HqIsq",
        "colab_type": "text"
      },
      "source": [
        "## Implimenting the solution"
      ]
    },
    {
      "cell_type": "markdown",
      "metadata": {
        "id": "lvOBhSe6vPWA",
        "colab_type": "text"
      },
      "source": [
        "## Using Multinomial Naive Bayes"
      ]
    },
    {
      "cell_type": "markdown",
      "metadata": {
        "id": "05eela85qeKC",
        "colab_type": "text"
      },
      "source": [
        "###spliting our data into features and targets"
      ]
    },
    {
      "cell_type": "code",
      "metadata": {
        "id": "-_xQLIOBqHM6",
        "colab_type": "code",
        "colab": {}
      },
      "source": [
        "# Split data into Features and Labels\n",
        "\n",
        "X = spam.iloc[:, :-1].values\n",
        "y = spam.iloc[:, -1:].values\n"
      ],
      "execution_count": 65,
      "outputs": []
    },
    {
      "cell_type": "markdown",
      "metadata": {
        "id": "7CKGaGftqwui",
        "colab_type": "text"
      },
      "source": [
        "### Split data into test  and train sets"
      ]
    },
    {
      "cell_type": "code",
      "metadata": {
        "id": "KTiOeRbIq1eq",
        "colab_type": "code",
        "colab": {}
      },
      "source": [
        "# Split data into test and train sets\n",
        "\n",
        "X_train, X_test, y_train, y_test = train_test_split(X, y, test_size = 0.2, random_state = 50)"
      ],
      "execution_count": 66,
      "outputs": []
    },
    {
      "cell_type": "markdown",
      "metadata": {
        "id": "9qUVTLm9rh4t",
        "colab_type": "text"
      },
      "source": [
        "### Initialize the Model"
      ]
    },
    {
      "cell_type": "code",
      "metadata": {
        "id": "UsqDIW1grmZH",
        "colab_type": "code",
        "colab": {
          "base_uri": "https://localhost:8080/",
          "height": 34
        },
        "outputId": "f83b8e6c-46e4-4c07-cd10-d86f17bdca5c"
      },
      "source": [
        "mnb = MultinomialNB()\n",
        "\n",
        "mnb.fit(X_train, y_train)\n"
      ],
      "execution_count": 67,
      "outputs": [
        {
          "output_type": "execute_result",
          "data": {
            "text/plain": [
              "MultinomialNB(alpha=1.0, class_prior=None, fit_prior=True)"
            ]
          },
          "metadata": {
            "tags": []
          },
          "execution_count": 67
        }
      ]
    },
    {
      "cell_type": "markdown",
      "metadata": {
        "id": "K48fZ2fzrxWZ",
        "colab_type": "text"
      },
      "source": [
        "### Predict X_test"
      ]
    },
    {
      "cell_type": "code",
      "metadata": {
        "id": "XnVdz02nr2Q2",
        "colab_type": "code",
        "colab": {}
      },
      "source": [
        "y_pred = mnb.predict(X_test)"
      ],
      "execution_count": 68,
      "outputs": []
    },
    {
      "cell_type": "markdown",
      "metadata": {
        "id": "KITW2EM_tLEr",
        "colab_type": "text"
      },
      "source": [
        "### Check accuracy of our model"
      ]
    },
    {
      "cell_type": "code",
      "metadata": {
        "id": "ZPyAbZOOtKP6",
        "colab_type": "code",
        "colab": {
          "base_uri": "https://localhost:8080/",
          "height": 204
        },
        "outputId": "e82f6e5f-4df5-4916-a99d-8650c43be4c9"
      },
      "source": [
        "print(metrics.classification_report(y_test, y_pred))\n",
        "\n",
        "print(metrics.confusion_matrix(y_test, y_pred))"
      ],
      "execution_count": 69,
      "outputs": [
        {
          "output_type": "stream",
          "text": [
            "              precision    recall  f1-score   support\n",
            "\n",
            "         0.0       0.83      0.83      0.83       576\n",
            "         1.0       0.71      0.71      0.71       344\n",
            "\n",
            "    accuracy                           0.78       920\n",
            "   macro avg       0.77      0.77      0.77       920\n",
            "weighted avg       0.78      0.78      0.78       920\n",
            "\n",
            "[[476 100]\n",
            " [100 244]]\n"
          ],
          "name": "stdout"
        }
      ]
    },
    {
      "cell_type": "markdown",
      "metadata": {
        "id": "MSrr2lkQqs8l",
        "colab_type": "text"
      },
      "source": [
        "## Using Gausian Naive Bayes"
      ]
    },
    {
      "cell_type": "code",
      "metadata": {
        "id": "VPXH8GMGun3G",
        "colab_type": "code",
        "colab": {}
      },
      "source": [
        "# Split data into Features and Labels\n",
        "\n",
        "X = spam.iloc[:, :-1].values\n",
        "y = spam.iloc[:, -1:].values\n",
        "\n",
        "\n",
        "# Split data into test and train sets\n",
        "\n",
        "X_train, X_test, y_train, y_test = train_test_split(X, y, test_size = 0.2, random_state = 50)\n",
        "\n"
      ],
      "execution_count": 70,
      "outputs": []
    },
    {
      "cell_type": "markdown",
      "metadata": {
        "id": "sMr9713huuIf",
        "colab_type": "text"
      },
      "source": [
        "###Fiting the model"
      ]
    },
    {
      "cell_type": "code",
      "metadata": {
        "id": "VaJWkYOwt8Ln",
        "colab_type": "code",
        "colab": {
          "base_uri": "https://localhost:8080/",
          "height": 34
        },
        "outputId": "5737108b-c910-4920-8ecb-177bfeb2b9d7"
      },
      "source": [
        "gnb = GaussianNB()\n",
        "\n",
        "gnb.fit(X_train, y_train)"
      ],
      "execution_count": 71,
      "outputs": [
        {
          "output_type": "execute_result",
          "data": {
            "text/plain": [
              "GaussianNB(priors=None, var_smoothing=1e-09)"
            ]
          },
          "metadata": {
            "tags": []
          },
          "execution_count": 71
        }
      ]
    },
    {
      "cell_type": "markdown",
      "metadata": {
        "id": "fLXGI-w8uJpd",
        "colab_type": "text"
      },
      "source": [
        "### Predict X_test"
      ]
    },
    {
      "cell_type": "code",
      "metadata": {
        "id": "y4ohZFqKuNft",
        "colab_type": "code",
        "colab": {}
      },
      "source": [
        "y_pred = gnb.predict(X_test)"
      ],
      "execution_count": 72,
      "outputs": []
    },
    {
      "cell_type": "markdown",
      "metadata": {
        "id": "qLJvCKKsuSIt",
        "colab_type": "text"
      },
      "source": [
        "### Check accuracy of our model"
      ]
    },
    {
      "cell_type": "code",
      "metadata": {
        "id": "HaqPA_x7uW7r",
        "colab_type": "code",
        "colab": {
          "base_uri": "https://localhost:8080/",
          "height": 204
        },
        "outputId": "f3cf6e63-4b58-4a22-b589-3acc21ae64ba"
      },
      "source": [
        "print(metrics.classification_report(y_test, y_pred))\n",
        "\n",
        "print(metrics.confusion_matrix(y_test, y_pred))"
      ],
      "execution_count": 73,
      "outputs": [
        {
          "output_type": "stream",
          "text": [
            "              precision    recall  f1-score   support\n",
            "\n",
            "         0.0       0.96      0.72      0.82       576\n",
            "         1.0       0.67      0.96      0.79       344\n",
            "\n",
            "    accuracy                           0.81       920\n",
            "   macro avg       0.82      0.84      0.80       920\n",
            "weighted avg       0.85      0.81      0.81       920\n",
            "\n",
            "[[412 164]\n",
            " [ 15 329]]\n"
          ],
          "name": "stdout"
        }
      ]
    },
    {
      "cell_type": "markdown",
      "metadata": {
        "id": "dVqYAeepwdxu",
        "colab_type": "text"
      },
      "source": [
        "## Using the Complementary Distribution"
      ]
    },
    {
      "cell_type": "code",
      "metadata": {
        "id": "6rrrXRFnwcQ1",
        "colab_type": "code",
        "colab": {
          "base_uri": "https://localhost:8080/",
          "height": 204
        },
        "outputId": "2fceeaff-9fb4-4445-adee-540b5332af5f"
      },
      "source": [
        "# Split data into Features and Labels\n",
        "\n",
        "X = spam.iloc[:, :-1].values\n",
        "y = spam.iloc[:, -1:].values\n",
        "\n",
        "\n",
        "# Split data into test and train sets\n",
        "\n",
        "X_train, X_test, y_train, y_test = train_test_split(X, y, test_size = 0.2, random_state = 50)\n",
        "\n",
        "# Fiting the model\n",
        "\n",
        "cmb = ComplementNB()\n",
        "cmb.fit(X_train, y_train)\n",
        "\n",
        "# Predict X_test\n",
        "y_pred = cmb.predict(X_test)\n",
        "\n",
        "# Check accuracy of our model\n",
        "\n",
        "print(metrics.classification_report(y_test, y_pred))\n",
        "\n",
        "print(metrics.confusion_matrix(y_test, y_pred))"
      ],
      "execution_count": 75,
      "outputs": [
        {
          "output_type": "stream",
          "text": [
            "              precision    recall  f1-score   support\n",
            "\n",
            "         0.0       0.83      0.82      0.83       576\n",
            "         1.0       0.71      0.73      0.72       344\n",
            "\n",
            "    accuracy                           0.78       920\n",
            "   macro avg       0.77      0.77      0.77       920\n",
            "weighted avg       0.79      0.78      0.79       920\n",
            "\n",
            "[[472 104]\n",
            " [ 94 250]]\n"
          ],
          "name": "stdout"
        }
      ]
    },
    {
      "cell_type": "markdown",
      "metadata": {
        "id": "D9n9j5y5D_70",
        "colab_type": "text"
      },
      "source": [
        "##Challenging the solution\n",
        "\n",
        "The easy solution is nice because it is, well, easy, but you should never allow those results to hold the day. You should always be thinking of ways to challenge the results, especially if those results comport with your prior expectation.\n",
        "\n",
        "From our analysis the data had already been preprocessed hence cuting our work to only fiting the best model\n",
        "\n",
        "since the data contained the frequency of words and not the count, the Gausian dististribution produced the highest accuracy of 0.81 ie 81%. 412 correct not spam emails and 164 incorrect not spam emails, 329 correct spam emails and 15 incorrect spam emails.\n",
        "\n",
        "Since the data had been preprocessed for us it was difficult to know if if it was preprossed correctly which may have led to inaccuracy of our data.\n"
      ]
    },
    {
      "cell_type": "markdown",
      "metadata": {
        "id": "x4XbDMamGqnr",
        "colab_type": "text"
      },
      "source": [
        "##Follow up questions"
      ]
    },
    {
      "cell_type": "markdown",
      "metadata": {
        "id": "BjC72f3mGs6b",
        "colab_type": "text"
      },
      "source": [
        "At this point, we can refine our question or collect new data, all in an iterative process to get at the truth."
      ]
    },
    {
      "cell_type": "markdown",
      "metadata": {
        "id": "myAshCEdGv9D",
        "colab_type": "text"
      },
      "source": [
        "a). Did we have the right data?\n",
        "\n",
        "Yes\n",
        " \n",
        "because using the data we were able to conduct an analysis on our analytic question"
      ]
    },
    {
      "cell_type": "markdown",
      "metadata": {
        "id": "Id2cbLrFG1mE",
        "colab_type": "text"
      },
      "source": [
        "b). Do we need other data to answer our question?\n",
        "\n",
        "no.\n",
        "\n",
        "The data provided was sufficient"
      ]
    },
    {
      "cell_type": "markdown",
      "metadata": {
        "id": "dgyJxJerG8dH",
        "colab_type": "text"
      },
      "source": [
        "c). Did we have the right question?\n",
        "\n",
        "yes\n",
        "\n",
        "We were able to make conclusion from our data"
      ]
    }
  ]
}